{
 "cells": [
  {
   "cell_type": "markdown",
   "id": "5999a562",
   "metadata": {},
   "source": [
    "map, filter, and reduce are three built-in functions in Python that are often used for processing sequences (lists, tuples, etc.) and applying functions to elements within those sequences. "
   ]
  },
  {
   "cell_type": "markdown",
   "id": "1e541a95",
   "metadata": {},
   "source": [
    "The map function applies a given function to all items in an iterable (like a list) and returns a map object (an iterator) containing the results\n",
    "syntax:\n",
    "map(function, iterable)"
   ]
  },
  {
   "cell_type": "code",
   "execution_count": 1,
   "id": "3a63c35d",
   "metadata": {},
   "outputs": [
    {
     "name": "stdout",
     "output_type": "stream",
     "text": [
      "[32.0, 50.0, 68.0, 86.0, 104.0]\n"
     ]
    }
   ],
   "source": [
    "# Convert a list of temperatures in Celsius to Fahrenheit\n",
    "def celsius_to_fahrenheit(celsius):\n",
    "    return (celsius * 9/5) + 32\n",
    "\n",
    "celsius_temps = [0, 10, 20, 30, 40]\n",
    "fahrenheit_temps = map(celsius_to_fahrenheit, celsius_temps)\n",
    "\n",
    "print(list(fahrenheit_temps))\n",
    "\n"
   ]
  },
  {
   "cell_type": "markdown",
   "id": "1fb35109",
   "metadata": {},
   "source": [
    "The filter function filters elements from an iterable based on a given function's condition and returns a filter object (an iterator) containing the elements that satisfy the condition.\n",
    "\n",
    "syntax:\n",
    "filter(function, iterable)"
   ]
  },
  {
   "cell_type": "code",
   "execution_count": 2,
   "id": "4ea930f9",
   "metadata": {},
   "outputs": [
    {
     "name": "stdout",
     "output_type": "stream",
     "text": [
      "[2, 4, 6, 8, 10]\n"
     ]
    }
   ],
   "source": [
    "# Filter out even numbers from a list\n",
    "def is_even(number):\n",
    "    return number % 2 == 0\n",
    "\n",
    "numbers = [1, 2, 3, 4, 5, 6, 7, 8, 9, 10]\n",
    "even_numbers = filter(is_even, numbers)\n",
    "\n",
    "print(list(even_numbers))\n"
   ]
  },
  {
   "cell_type": "markdown",
   "id": "dee575a0",
   "metadata": {},
   "source": [
    "The reduce function applies a given function to elements in an iterable in a cumulative way. It's not a built-in function in Python 3, but it's available in the functools module.\n",
    "\n",
    "Syntax:\n",
    "from functools import reduce\n",
    "reduce(function, iterable)"
   ]
  },
  {
   "cell_type": "code",
   "execution_count": 1,
   "id": "f4848d7e",
   "metadata": {},
   "outputs": [
    {
     "name": "stdout",
     "output_type": "stream",
     "text": [
      "120\n"
     ]
    }
   ],
   "source": [
    "from functools import reduce\n",
    "\n",
    "# Calculate the product of elements in a list\n",
    "def multiply(x, y):\n",
    "    return x * y\n",
    "\n",
    "numbers = [1, 2, 3, 4, 5]\n",
    "product = reduce(multiply, numbers)\n",
    "\n",
    "print(product)\n"
   ]
  },
  {
   "cell_type": "markdown",
   "id": "00292224",
   "metadata": {},
   "source": [
    "A lambda function in Python is a small, anonymous function that can have any number of arguments but only one expression. It is also known as an inline function or a lambda expression. Lambda functions are commonly used when a small function is needed for a short period of time and it's not necessary to define a named function using the def keyword.\n",
    "\n",
    "Syntax:\n",
    "lambda arguments: expression\n"
   ]
  },
  {
   "cell_type": "code",
   "execution_count": 2,
   "id": "5c090c8d",
   "metadata": {},
   "outputs": [
    {
     "name": "stdout",
     "output_type": "stream",
     "text": [
      "[32.0, 50.0, 68.0, 86.0, 104.0]\n"
     ]
    }
   ],
   "source": [
    "celsius_temps = [0, 10, 20, 30, 40]\n",
    "fahrenheit_temps = map(lambda c: (c * 9/5) + 32, celsius_temps)\n",
    "\n",
    "print(list(fahrenheit_temps))\n",
    "\n"
   ]
  },
  {
   "cell_type": "code",
   "execution_count": 5,
   "id": "99fbae02",
   "metadata": {},
   "outputs": [
    {
     "name": "stdout",
     "output_type": "stream",
     "text": [
      "[2, 4, 6, 8, 10]\n"
     ]
    }
   ],
   "source": [
    "numbers = [1, 2, 3, 4, 5, 6, 7, 8, 9, 10]\n",
    "even_numbers = filter(lambda x: x % 2 == 0, numbers)\n",
    "\n",
    "print(list(even_numbers))\n",
    "\n"
   ]
  },
  {
   "cell_type": "code",
   "execution_count": 6,
   "id": "3c0b29b7",
   "metadata": {},
   "outputs": [
    {
     "name": "stdout",
     "output_type": "stream",
     "text": [
      "120\n"
     ]
    }
   ],
   "source": [
    "from functools import reduce\n",
    "\n",
    "numbers = [1, 2, 3, 4, 5]\n",
    "product = reduce(lambda x, y: x * y, numbers)\n",
    "\n",
    "print(product)\n",
    "\n"
   ]
  },
  {
   "cell_type": "code",
   "execution_count": null,
   "id": "af24f909",
   "metadata": {},
   "outputs": [],
   "source": []
  }
 ],
 "metadata": {
  "kernelspec": {
   "display_name": "Python 3 (ipykernel)",
   "language": "python",
   "name": "python3"
  },
  "language_info": {
   "codemirror_mode": {
    "name": "ipython",
    "version": 3
   },
   "file_extension": ".py",
   "mimetype": "text/x-python",
   "name": "python",
   "nbconvert_exporter": "python",
   "pygments_lexer": "ipython3",
   "version": "3.10.9"
  }
 },
 "nbformat": 4,
 "nbformat_minor": 5
}
