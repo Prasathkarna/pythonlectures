{
 "cells": [
  {
   "cell_type": "markdown",
   "id": "0e1f5fac",
   "metadata": {},
   "source": [
    "# STACK\n",
    "->A stack is a data structure that follows the Last-In-First-Out (LIFO) principle.\n",
    "->Elements are added and removed from the top, making it suitable for implementing function calls and expressions.\n",
    "->Common operations are push (add) and pop (remove) from the top.\n",
    "\n",
    "The below example demonstrates the implementation of a stack using a Python list. The Stack class has methods for pushing elements onto the stack, popping elements off the stack, checking if the stack is empty, peeking at the top element, and getting the size of the stack.\n",
    "\n"
   ]
  },
  {
   "cell_type": "code",
   "execution_count": 1,
   "id": "46d80ca6",
   "metadata": {},
   "outputs": [
    {
     "name": "stdout",
     "output_type": "stream",
     "text": [
      "Popped: 30\n",
      "Peek: 20\n",
      "Size: 2\n"
     ]
    }
   ],
   "source": [
    "class Stack:\n",
    "    def __init__(self):#The __init__ method is the constructor for the Stack class. \n",
    "        #It initializes an empty list self.items to store the elements of the stack.\n",
    "        self.items = []\n",
    "\n",
    "    def push(self, item):\n",
    "        self.items.append(item)\n",
    "\n",
    "    def pop(self):\n",
    "        if not self.is_empty():\n",
    "            return self.items.pop()\n",
    "\n",
    "    def is_empty(self):\n",
    "        return len(self.items) == 0\n",
    "\n",
    "    def peek(self):\n",
    "        if not self.is_empty():\n",
    "            return self.items[-1]\n",
    "\n",
    "    def size(self):\n",
    "        return len(self.items)\n",
    "\n",
    "stack = Stack()\n",
    "stack.push(10)\n",
    "stack.push(20)\n",
    "stack.push(30)\n",
    "print(\"Popped:\", stack.pop())\n",
    "print(\"Peek:\", stack.peek())\n",
    "print(\"Size:\", stack.size())\n"
   ]
  },
  {
   "cell_type": "markdown",
   "id": "7e5c8192",
   "metadata": {},
   "source": [
    "# Queue\n",
    "\n",
    "->A queue is a data structure that follows the First-In-First-Out (FIFO) principle.\n",
    "->Elements are added to the back (enqueue) and removed from the front (dequeue).\n",
    "->Used for tasks like task scheduling and breadth-first search.\n",
    "\n",
    "In the below example, we use Python's collections module to create a simple queue using a deque (double-ended queue). We append elements to the back of the queue using append, and pop elements from the front using popleft.\n",
    "\n",
    "\n"
   ]
  },
  {
   "cell_type": "code",
   "execution_count": 3,
   "id": "aa7d85a0",
   "metadata": {},
   "outputs": [
    {
     "name": "stdout",
     "output_type": "stream",
     "text": [
      "Dequeued: 10\n",
      "Front: 20\n",
      "Size: 2\n"
     ]
    }
   ],
   "source": [
    "# Create a new queue\n",
    "my_queue = Queue()\n",
    "\n",
    "# Enqueue elements\n",
    "#add (enqueue) an item to the rear (end) of the queue\n",
    "my_queue.enqueue(10)\n",
    "my_queue.enqueue(20)\n",
    "my_queue.enqueue(30)\n",
    "\n",
    "# Dequeue an element\n",
    "dequeued_item = my_queue.dequeue()#remove and return the front (first) item from the queue \n",
    "print(\"Dequeued:\", dequeued_item)\n",
    "\n",
    "# Check the front item\n",
    "front_item = my_queue.front()#returns 1st element\n",
    "print(\"Front:\", front_item)\n",
    "\n",
    "# Check the size of the queue\n",
    "queue_size = my_queue.size()\n",
    "print(\"Size:\", queue_size)\n"
   ]
  },
  {
   "cell_type": "markdown",
   "id": "b2103d6b",
   "metadata": {},
   "source": [
    "# Deque (Double-Ended Queue):\n",
    "\n",
    "->A deque is a versatile data structure that allows insertion and deletion from both ends.\n",
    "->Offers O(1) time complexity for front and back operations.\n",
    "->Can be used to implement stacks, queues, and more.\n",
    "\n",
    "\n",
    "The example demonstrates the usage of a deque (double-ended queue). We append elements to the back of the deque using append and to the front using appendleft. We also pop elements from the back using pop."
   ]
  },
  {
   "cell_type": "code",
   "execution_count": 3,
   "id": "9fb7bfad",
   "metadata": {},
   "outputs": [
    {
     "name": "stdout",
     "output_type": "stream",
     "text": [
      "Popped: 20\n",
      "Front: 5\n",
      "Size: 2\n"
     ]
    }
   ],
   "source": [
    "from collections import deque\n",
    "\n",
    "deque = deque()\n",
    "deque.append(10)\n",
    "deque.append(20)\n",
    "deque.appendleft(5)\n",
    "print(\"Popped:\", deque.pop())\n",
    "print(\"Front:\", deque[0])\n",
    "print(\"Size:\", len(deque))\n"
   ]
  },
  {
   "cell_type": "markdown",
   "id": "b385aa48",
   "metadata": {},
   "source": [
    "# Priority Queue\n",
    "\n",
    "->A priority queue is a data structure that maintains elements with priorities.\n",
    "->Elements with higher priority are dequeued first.\n",
    "->Common implementations include binary heaps or priority queues.\n",
    "\n",
    "Here, we implement a priority queue using Python's heapq module. The heapq module provides heap-related functions. We use heappush to add elements to the heap and heappop to remove the smallest element."
   ]
  },
  {
   "cell_type": "code",
   "execution_count": 4,
   "id": "1aae9991",
   "metadata": {},
   "outputs": [
    {
     "name": "stdout",
     "output_type": "stream",
     "text": [
      "Popped: 5\n",
      "Smallest: 10\n",
      "Size: 2\n"
     ]
    }
   ],
   "source": [
    "import heapq\n",
    "\n",
    "heap = []\n",
    "#The heappush function ensures that the heap property (parent nodes are smaller than their child nodes) is maintained.\n",
    "heapq.heappush(heap, 10)\n",
    "heapq.heappush(heap, 5)\n",
    "heapq.heappush(heap, 20)\n",
    "#heapq.heappop() function is used to remove and return the smallest element from the heap.\n",
    "print(\"Popped:\", heapq.heappop(heap))\n",
    "print(\"Smallest:\", heap[0])\n",
    "print(\"Size:\", len(heap))\n"
   ]
  },
  {
   "cell_type": "markdown",
   "id": "9b4612ce",
   "metadata": {},
   "source": [
    "# Heaps\n",
    "\n",
    "->A heap is a binary tree with special properties.\n",
    "->Min heap: The parent node's value is smaller than or equal to its children's values.\n",
    "->Max heap: The parent node's value is greater than or equal to its children's values.\n",
    "->Useful in algorithms like heapsort and priority queues.\n",
    "\n",
    "\n",
    "This below example demonstrates using heapq to create a min-heap. Similar to the priority queue example, we use heappush and heappop functions to manipulate the heap."
   ]
  },
  {
   "cell_type": "code",
   "execution_count": 5,
   "id": "55b416c5",
   "metadata": {},
   "outputs": [
    {
     "name": "stdout",
     "output_type": "stream",
     "text": [
      "Popped: 5\n",
      "Smallest: 10\n",
      "Size: 2\n"
     ]
    }
   ],
   "source": [
    "import heapq\n",
    "\n",
    "heap = []\n",
    "heapq.heappush(heap, 10)\n",
    "heapq.heappush(heap, 5)\n",
    "heapq.heappush(heap, 20)\n",
    "print(\"Popped:\", heapq.heappop(heap))\n",
    "print(\"Smallest:\", heap[0])\n",
    "print(\"Size:\", len(heap))\n"
   ]
  },
  {
   "cell_type": "markdown",
   "id": "430fff85",
   "metadata": {},
   "source": [
    "# Linked List\n",
    "\n",
    "->A linked list is a linear data structure where elements are stored in nodes.\n",
    "->Each node contains the data and a reference (pointer) to the next node.\n",
    "->It can be singly linked (each node points to the next) or doubly linked (each node points to both next and previous).\n",
    "->Common operations include insertion, deletion, traversal, and searching.\n",
    "\n",
    "In the below example, we create a simple singly linked list with a Node class and a LinkedList class. The Node class represents each element in the linked list, containing the data and a reference to the next node. The LinkedList class has methods for appending data to the end of the list and displaying the elements."
   ]
  },
  {
   "cell_type": "code",
   "execution_count": 9,
   "id": "3d1f1939",
   "metadata": {},
   "outputs": [
    {
     "name": "stdout",
     "output_type": "stream",
     "text": [
      "10 -> 20 -> 30 -> None\n"
     ]
    }
   ],
   "source": [
    "class Node:\n",
    "    def __init__(self, data):\n",
    "        self.data = data\n",
    "        self.next = None\n",
    "\n",
    "class LinkedList:\n",
    "    def __init__(self):\n",
    "        self.head = None\n",
    "\n",
    "    def append(self, data):\n",
    "        new_node = Node(data)\n",
    "        if not self.head:\n",
    "            self.head = new_node\n",
    "            return\n",
    "        current = self.head\n",
    "        while current.next:\n",
    "            current = current.next\n",
    "        current.next = new_node\n",
    "\n",
    "    def display(self):\n",
    "        current = self.head\n",
    "        while current:\n",
    "            print(current.data, end=\" -> \")\n",
    "            current = current.next\n",
    "        print(\"None\")\n",
    "\n",
    "linked_list = LinkedList()\n",
    "linked_list.append(10)\n",
    "linked_list.append(20)\n",
    "linked_list.append(30)\n",
    "linked_list.display()"
   ]
  },
  {
   "cell_type": "markdown",
   "id": "38aa7c13",
   "metadata": {},
   "source": [
    "# Search Trees\n",
    "\n",
    "->Search trees are hierarchical data structures for efficient searching, insertion, and deletion.\n",
    "->Binary Search Tree (BST): Left subtree values are less, and right subtree values are greater.\n",
    "->Balanced Search Trees (AVL, Red-Black) maintain balance for faster operations.\n",
    "\n",
    "The binary search tree example creates a simple binary search tree with a Node class. The inorder_traversal function performs an inorder traversal of the tree, printing the elements in sorted order."
   ]
  },
  {
   "cell_type": "code",
   "execution_count": 7,
   "id": "010c020d",
   "metadata": {},
   "outputs": [
    {
     "name": "stdout",
     "output_type": "stream",
     "text": [
      "Inorder Traversal: 3 5 8 10 20 "
     ]
    }
   ],
   "source": [
    "class Node:\n",
    "    def __init__(self, key):\n",
    "        self.left = None\n",
    "        self.right = None\n",
    "        self.val = key\n",
    "\n",
    "def inorder_traversal(root):\n",
    "    if root:\n",
    "        inorder_traversal(root.left)\n",
    "        print(root.val, end=\" \")\n",
    "        inorder_traversal(root.right)\n",
    "\n",
    "root = Node(10)\n",
    "root.left = Node(5)\n",
    "root.right = Node(20)\n",
    "root.left.left = Node(3)\n",
    "root.left.right = Node(8)\n",
    "\n",
    "print(\"Inorder Traversal:\", end=\" \")\n",
    "inorder_traversal(root)\n"
   ]
  },
  {
   "cell_type": "markdown",
   "id": "b641f6c4",
   "metadata": {},
   "source": [
    "# AVL Trees\n",
    "\n",
    "->An AVL Tree is a self-balancing Binary Search Tree.\n",
    "Ensures that the height difference between left and right subtrees is at most 1.\n",
    "->Operations like insertion and deletion trigger rotations to maintain balance.\n",
    "\n",
    "The below example illustrates an AVL tree, a self-balancing binary search tree. In this simple example, we create an AVL tree and use the inorder_traversal function to display the elements."
   ]
  },
  {
   "cell_type": "code",
   "execution_count": 8,
   "id": "9c91b22d",
   "metadata": {},
   "outputs": [
    {
     "name": "stdout",
     "output_type": "stream",
     "text": [
      "Inorder Traversal: 50 "
     ]
    }
   ],
   "source": [
    "class Node:\n",
    "    def __init__(self, key):\n",
    "        self.left = None\n",
    "        self.right = None\n",
    "        self.height = 1\n",
    "        self.val = key\n",
    "\n",
    "def inorder_traversal(root):\n",
    "    if root:\n",
    "        inorder_traversal(root.left)\n",
    "        print(root.val, end=\" \")\n",
    "        inorder_traversal(root.right)\n",
    "\n",
    "root = Node(10)\n",
    "root = Node(20)\n",
    "root = Node(30)\n",
    "root = Node(40)\n",
    "root = Node(50)\n",
    "\n",
    "print(\"Inorder Traversal:\", end=\" \")\n",
    "inorder_traversal(root)\n"
   ]
  },
  {
   "cell_type": "code",
   "execution_count": null,
   "id": "f2bb2b23",
   "metadata": {},
   "outputs": [],
   "source": []
  }
 ],
 "metadata": {
  "kernelspec": {
   "display_name": "Python 3 (ipykernel)",
   "language": "python",
   "name": "python3"
  },
  "language_info": {
   "codemirror_mode": {
    "name": "ipython",
    "version": 3
   },
   "file_extension": ".py",
   "mimetype": "text/x-python",
   "name": "python",
   "nbconvert_exporter": "python",
   "pygments_lexer": "ipython3",
   "version": "3.11.3"
  }
 },
 "nbformat": 4,
 "nbformat_minor": 5
}
